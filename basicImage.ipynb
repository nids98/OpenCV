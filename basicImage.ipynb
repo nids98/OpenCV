{
 "cells": [
  {
   "cell_type": "code",
   "execution_count": 2,
   "metadata": {},
   "outputs": [],
   "source": [
    "import cv2\n",
    "\n",
    "input = cv2.imread(\"./images/baloon.jpg\")\n",
    "cv2.imshow(\"Baloon\", input)\n",
    "\n",
    "cv2.waitKey()\n",
    "cv2.destroyAllWindows()"
   ]
  },
  {
   "cell_type": "code",
   "execution_count": 3,
   "metadata": {},
   "outputs": [
    {
     "name": "stdout",
     "output_type": "stream",
     "text": [
      "(184L, 275L, 3L)\n"
     ]
    }
   ],
   "source": [
    "import numpy as np\n",
    "\n",
    "print input.shape"
   ]
  },
  {
   "cell_type": "code",
   "execution_count": 4,
   "metadata": {},
   "outputs": [
    {
     "name": "stdout",
     "output_type": "stream",
     "text": [
      "Height of image :  184  pixels\n",
      "Width of image :  184  pixels\n"
     ]
    }
   ],
   "source": [
    "# Printing each dimension\n",
    "\n",
    "print 'Height of image : ', int(input.shape[0]), ' pixels'\n",
    "print 'Width of image : ', int(input.shape[0]), ' pixels'"
   ]
  },
  {
   "cell_type": "code",
   "execution_count": null,
   "metadata": {
    "collapsed": true
   },
   "outputs": [],
   "source": [
    "# Saving image\n",
    "\n",
    "cv2.imwrite('bal')"
   ]
  }
 ],
 "metadata": {
  "kernelspec": {
   "display_name": "Python 2",
   "language": "python",
   "name": "python2"
  },
  "language_info": {
   "codemirror_mode": {
    "name": "ipython",
    "version": 2
   },
   "file_extension": ".py",
   "mimetype": "text/x-python",
   "name": "python",
   "nbconvert_exporter": "python",
   "pygments_lexer": "ipython2",
   "version": "2.7.14"
  }
 },
 "nbformat": 4,
 "nbformat_minor": 2
}
